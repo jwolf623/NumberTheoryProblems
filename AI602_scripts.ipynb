{
 "cells": [
  {
   "cell_type": "code",
   "execution_count": 2,
   "id": "99ae6d78",
   "metadata": {},
   "outputs": [
    {
     "name": "stdout",
     "output_type": "stream",
     "text": [
      "Enter a number: 40003\n",
      "Binary Equivalent is: \n",
      "1 0 0 1 1 1 0 0 0 1 0 0 0 0 1 1 "
     ]
    }
   ],
   "source": [
    "#Convert integer to binary program\n",
    "n=int(input(\"Enter a number: \"))\n",
    "a=[]\n",
    "while(n>0):\n",
    "    dig=n%2\n",
    "    a.append(dig)\n",
    "    n=n//2\n",
    "a.reverse()\n",
    "print(\"Binary Equivalent is: \")\n",
    "for i in a:\n",
    "    print(i,end=\" \")"
   ]
  },
  {
   "cell_type": "code",
   "execution_count": null,
   "id": "a72184df",
   "metadata": {},
   "outputs": [],
   "source": [
    "#Give caffeine remaining in body\n",
    "\n",
    "caff=float(input())\n",
    "\n",
    "remainCaff=caff/2\n",
    "remainCaff1=remainCaff/2\n",
    "remainCaff2=remainCaff1/4\n",
    "\n",
    "print('After 6 hours: {:.2f} mg'.format(remainCaff))\n",
    "print('After 12 hours: {:.2f} mg'.format(remainCaff1))\n",
    "print('After 24 hours: {:.2f} mg'.format(remainCaff2))"
   ]
  },
  {
   "cell_type": "code",
   "execution_count": 8,
   "id": "e1c3dc4e",
   "metadata": {},
   "outputs": [
    {
     "name": "stdout",
     "output_type": "stream",
     "text": [
      "4.23\n",
      "5.00\n",
      "11.82\n",
      "59.10\n",
      "472.81\n"
     ]
    }
   ],
   "source": [
    "#Cost of driving a set distance program\n",
    "def driving_cost(miles_driven,mpg,dpg):\n",
    "    cost=(1/mpg) * dpg * miles_driven\n",
    "    return cost\n",
    "\n",
    "\n",
    "if __name__ == '__main__':\n",
    "\n",
    "    mpg=float(input())\n",
    "    dpg=float(input())\n",
    "\n",
    "\n",
    "    cost_10 = driving_cost(10,mpg,dpg)\n",
    "    cost_50 = driving_cost(50,mpg,dpg)\n",
    "    cost_400 = driving_cost(400,mpg,dpg)\n",
    "\n",
    "    print('{:.2f}'.format(cost_10))\n",
    "    print('{:.2f}'.format(cost_50))\n",
    "    print('{:.2f}'.format(cost_400))"
   ]
  },
  {
   "cell_type": "code",
   "execution_count": 14,
   "id": "092d1ba8",
   "metadata": {},
   "outputs": [
    {
     "name": "stdout",
     "output_type": "stream",
     "text": [
      "40002\n",
      "400 dollars\n",
      "2 pennies\n"
     ]
    }
   ],
   "source": [
    "#Program to calculate the change given an integer\n",
    "def exact_change(tot_change):\n",
    "    ndol = tot_change // 100\n",
    "\n",
    "    tot_change -= ndol*100\n",
    "    nq = tot_change // 25\n",
    "\n",
    "    tot_change -= nq*25\n",
    "    nd = tot_change // 10\n",
    "\n",
    "    tot_change -= nd*10\n",
    "    nn = tot_change // 5\n",
    "\n",
    "    tot_change -= nn*5\n",
    "    np = tot_change // 1\n",
    "\n",
    "    return ndol, nq, nd, nn, np\n",
    "\n",
    "\n",
    "if __name__ == '__main__':\n",
    "    tot_change = int(input())\n",
    "    ndol, nq,  nd, nn, np = exact_change(tot_change)\n",
    "\n",
    "    if tot_change == 0:\n",
    "        print(\"no change\")\n",
    "\n",
    "if ndol > 1:\n",
    "    print('{} dollars'.format(ndol))\n",
    "elif ndol == 1:\n",
    "    print('{} dollar'.format(ndol))\n",
    "else:\n",
    "    pass\n",
    "\n",
    "if nq > 1:\n",
    "    print('{} quarters'.format(nq))\n",
    "elif nq == 1:\n",
    "    print('{} quarter'.format(nq))\n",
    "else:\n",
    "    pass\n",
    "\n",
    "if nd > 1:\n",
    "    print('{} dimes'.format(nd))\n",
    "elif nd == 1:\n",
    "    print('{} dime'.format(nd))\n",
    "else:\n",
    "    pass\n",
    "\n",
    "if nn > 1:\n",
    "    print('{} nickels'.format(nn))\n",
    "elif nn == 1:\n",
    "    print('{} nickel'.format(nn))\n",
    "else:\n",
    "    pass\n",
    "\n",
    "if np > 1:\n",
    "    print('{} pennies'.format(np))\n",
    "elif np == 1:\n",
    "    print('{} penny'.format(np))\n",
    "else:\n",
    "    pass"
   ]
  },
  {
   "cell_type": "code",
   "execution_count": 19,
   "id": "f3611336",
   "metadata": {},
   "outputs": [
    {
     "name": "stdout",
     "output_type": "stream",
     "text": [
      "40\n",
      "200\n",
      "85\n",
      "1\n",
      "Women: 2.17 calories\n",
      "Men: 5.90 calories\n"
     ]
    }
   ],
   "source": [
    "#Program for calories burned given age weight heart rate and time spent\n",
    "\n",
    "age=int(input())\n",
    "wt=int(input())\n",
    "hr=int(input())\n",
    "time=int(input())\n",
    "\n",
    "calBurned_women = ((age*0.074) - (wt * 0.05741) + (hr * 0.4472) - 20.4022)*time / 4.184\n",
    "calBurned_men = ((age*0.2017) + (wt * 0.09036) + (hr * 0.6309) - 55.0969) * time / 4.184\n",
    "\n",
    "\n",
    "print('Women: {:.2f} calories'.format(calBurned_women))\n",
    "print('Men: {:.2f} calories'.format(calBurned_men))\n"
   ]
  },
  {
   "cell_type": "code",
   "execution_count": 20,
   "id": "3f3d960d",
   "metadata": {},
   "outputs": [
    {
     "name": "stdout",
     "output_type": "stream",
     "text": [
      "[0.6629970129852887, 0.7253160725279748]\n"
     ]
    }
   ],
   "source": [
    "#Forward prograpagation\n",
    "\n",
    "from math import exp\n",
    "\n",
    "# Calculate neuron activation for an input\n",
    "def activate(weights, inputs):\n",
    "\tactivation = weights[-1]\n",
    "\tfor i in range(len(weights)-1):\n",
    "\t\tactivation += weights[i] * inputs[i]\n",
    "\treturn activation\n",
    "\n",
    "# Transfer neuron activation\n",
    "def transfer(activation):\n",
    "\treturn 1.0 / (1.0 + exp(-activation))\n",
    "\n",
    "# Forward propagate input to a network output\n",
    "def forward_propagate(network, row):\n",
    "\tinputs = row\n",
    "\tfor layer in network:\n",
    "\t\tnew_inputs = []\n",
    "\t\tfor neuron in layer:\n",
    "\t\t\tactivation = activate(neuron['weights'], inputs)\n",
    "\t\t\tneuron['output'] = transfer(activation)\n",
    "\t\t\tnew_inputs.append(neuron['output'])\n",
    "\t\tinputs = new_inputs\n",
    "\treturn inputs\n",
    "\n",
    "# test forward propagation\n",
    "network = [[{'weights': [0.13436424411240122, 0.8474337369372327, 0.763774618976614]}],\n",
    "\t\t[{'weights': [0.2550690257394217, 0.49543508709194095]}, {'weights': [0.4494910647887381, 0.651592972722763]}]]\n",
    "row = [1, 0, None]\n",
    "output = forward_propagate(network, row)\n",
    "print(output)\n"
   ]
  },
  {
   "cell_type": "code",
   "execution_count": 22,
   "id": "16930c7d",
   "metadata": {},
   "outputs": [
    {
     "name": "stdout",
     "output_type": "stream",
     "text": [
      "Enter first positive integer: 10000\n",
      "\n",
      "Enter second positive integer: 10\n",
      "\n",
      "GCD is 10\n"
     ]
    }
   ],
   "source": [
    "#Greatest common denominator\n",
    "\n",
    "num_a = int(input('Enter first positive integer: '))\n",
    "print()\n",
    "\n",
    "num_b = int(input('Enter second positive integer: '))\n",
    "print()\n",
    "\n",
    "while num_a != num_b:\n",
    "    if num_a > num_b:\n",
    "        num_a = num_a - num_b\n",
    "        \n",
    "    else:\n",
    "        num_b = num_b - num_a\n",
    "        \n",
    "print('GCD is {}'.format(num_a))\n"
   ]
  },
  {
   "cell_type": "code",
   "execution_count": 24,
   "id": "95989c60",
   "metadata": {},
   "outputs": [
    {
     "name": "stdout",
     "output_type": "stream",
     "text": [
      "Enter a number to see if it is prime.7\n",
      "True\n"
     ]
    }
   ],
   "source": [
    "#Program to test for a prime number\n",
    "\n",
    "k=int(input('Enter a number to see if it is prime.'))\n",
    "\n",
    "\n",
    "def is_prime(k):\n",
    "    j=round(k/2)\n",
    "    val=True\n",
    "    for i in range(2, j):\n",
    "        if k % i == 0:\n",
    "            return False\n",
    "    return True\n",
    "\n",
    "print(is_prime(k))"
   ]
  },
  {
   "cell_type": "code",
   "execution_count": 27,
   "id": "8f979bf5",
   "metadata": {},
   "outputs": [
    {
     "name": "stdout",
     "output_type": "stream",
     "text": [
      "Apples are eating apes\n",
      "A\n",
      "1\n"
     ]
    }
   ],
   "source": [
    "#Program to count the times a letter appears in a phrase\n",
    "\n",
    "letter=str(input())\n",
    "phrase=str(input())\n",
    "count=0\n",
    "n=letter[0:1]\n",
    "j=0                         #Back slicing index\n",
    "k=1                         #Front slicing index\n",
    "\n",
    "for letter in phrase:\n",
    "    if n == phrase[j:k]:\n",
    "        count+=1\n",
    "\n",
    "    j+=1\n",
    "    k+=1\n",
    "\n",
    "print(count)"
   ]
  },
  {
   "cell_type": "code",
   "execution_count": null,
   "id": "2c4cd5f0",
   "metadata": {},
   "outputs": [],
   "source": [
    "#Program to multply four numbers and average them\n",
    "\n",
    "num1 = float(input())\n",
    "num2 = float(input())\n",
    "num3 = float(input())\n",
    "num4 = float(input())\n",
    "\n",
    "prod=num1*num2*num3*num4\n",
    "\n",
    "avg=(num1+num2+num3+num4)/4\n",
    "\n",
    "print('{:.0f} {:.0f}'.format(prod,avg))\n",
    "print('{:.3f} {:.3f}'.format(prod,avg))\n"
   ]
  },
  {
   "cell_type": "code",
   "execution_count": 33,
   "id": "6262f502",
   "metadata": {},
   "outputs": [
    {
     "name": "stdout",
     "output_type": "stream",
     "text": [
      "['Aiden', 'Bailey', 'Britney', 'Charlie', 'Chuck', 'Elizabeth', 'Henry', 'Jayden', 'John', 'Khloe', 'Kim', 'Lucas', 'Maria', 'Meghan', 'Michael', 'Samuel', 'Veronica']\n",
      "['Aiden', 'Bailey', 'Jayden']\n",
      "[]\n"
     ]
    }
   ],
   "source": [
    "#Names program using sets\n",
    "\n",
    "male_names = { 'John', 'Bailey', 'Charlie', 'Chuck', 'Michael', 'Samuel', 'Jayden', 'Aiden', 'Henry', 'Lucas' }\n",
    "female_names = { 'Elizabeth', 'Meghan', 'Kim', 'Khloe', 'Bailey', 'Jayden', 'Aiden', 'Britney', 'Veronica', 'Maria' }\n",
    "\n",
    "# Use set methods to create sets all_names, neutral_names, and specific_names.\n",
    "all_names=female_names.union(male_names)\n",
    "specific_names=female_names.difference(male_names, female_names)\n",
    "neutral_names=male_names.intersection(female_names)\n",
    "\n",
    "print(sorted(all_names))\n",
    "print(sorted(neutral_names))\n",
    "print(sorted(specific_names))"
   ]
  },
  {
   "cell_type": "code",
   "execution_count": 34,
   "id": "6517523f",
   "metadata": {},
   "outputs": [
    {
     "name": "stdout",
     "output_type": "stream",
     "text": [
      "GRB, CHN, RUS, US, KOR, JPN, GER received[29, 38, 24, 46, 13, 7, 11] gold medals and won [65, 88, 81, 103, 28, 38, 36] total medals respectively.\n",
      "The United States won the most medals overall with 103 total medals.\n",
      "The United States won the most gold medals with 46 medals.\n",
      "Japan was the country who won the smallest amount of gold medals with 7 medals.\n"
     ]
    }
   ],
   "source": [
    "#Olympics 2012 program \n",
    "\n",
    "def Tot_M(LST):\n",
    "    T_medals = sum(LST)\n",
    "    return T_medals\n",
    "\n",
    "def g_medals(LST):\n",
    "    for country in world:\n",
    "        return [item[0] for item in LST]\n",
    "\n",
    "def tm_greatest(tm_world):                   #This works\n",
    "    total=0\n",
    "    for value in tm_world:\n",
    "        if total < value:\n",
    "            total = value\n",
    "\n",
    "    return total\n",
    "\n",
    "GRB = [29, 17, 19]\n",
    "CHN = [38, 28, 22]\n",
    "RUS = [24, 25, 32]\n",
    "US = [46, 28, 29]\n",
    "KOR = [13, 8, 7]\n",
    "JPN = [7, 14, 17]\n",
    "GER = [11, 11, 14]\n",
    "world = [GRB, CHN, RUS, US, KOR, JPN, GER]\n",
    "\n",
    "tm_GRB=Tot_M(GRB)\n",
    "tm_CHN=Tot_M(CHN)\n",
    "tm_RUS=Tot_M(RUS)\n",
    "tm_US=Tot_M(US)\n",
    "tm_KOR=Tot_M(KOR)\n",
    "tm_JPN=Tot_M(JPN)\n",
    "tm_GER=Tot_M(GER)\n",
    "tm_world = [Tot_M(GRB),Tot_M(CHN),Tot_M(RUS),Tot_M(US),Tot_M(KOR),Tot_M(JPN),Tot_M(GER)]\n",
    "\n",
    "\n",
    "print('GRB, CHN, RUS, US, KOR, JPN, GER received', end='')\n",
    "print(g_medals(world), 'gold medals and won' ,tm_world, 'total medals respectively.')\n",
    "print('The United States won the most medals overall with', tm_greatest(tm_world),'total medals.')\n",
    "print('The United States won the most gold medals with',US[0],'medals.')\n",
    "print('Japan was the country who won the smallest amount of gold medals with',JPN[0],'medals.')\n"
   ]
  },
  {
   "cell_type": "code",
   "execution_count": 37,
   "id": "8f7c248e",
   "metadata": {},
   "outputs": [
    {
     "name": "stdout",
     "output_type": "stream",
     "text": [
      "10000\n",
      "40000\n",
      "This house is $10000. The change is $-30000 since last month.\n",
      "The estimated monthly mortgage is $42.50.\n"
     ]
    }
   ],
   "source": [
    "#Real Estate program\n",
    "\n",
    "curr_pr=int(input())\n",
    "lastmonth_pr=int(input())\n",
    "\n",
    "difference=curr_pr - lastmonth_pr\n",
    "\n",
    "summary_pr = (curr_pr*0.051)/12\n",
    "\n",
    "print('This house is ${}. The change is ${} since last month.'.format(curr_pr, difference))\n",
    "print('The estimated monthly mortgage is ${:.2f}.'.format(summary_pr))\n"
   ]
  },
  {
   "cell_type": "code",
   "execution_count": 39,
   "id": "b20d3b3f",
   "metadata": {},
   "outputs": [
    {
     "name": "stdout",
     "output_type": "stream",
     "text": [
      "0\n",
      "00\n",
      "      00\n",
      "0000000000\n",
      "000000000000\n",
      "0000000000\n",
      "      00\n"
     ]
    }
   ],
   "source": [
    "#Program to print a right facing arrow with an arbitrary character\n",
    "\n",
    "bc = input() #base_char\n",
    "hc = input() #head_char\n",
    "\n",
    "row1 = '      ' + hc\n",
    "row2 =('{0}{0}{0}{0}{0}{0}{1}{1}'.format(bc,hc))\n",
    "row3 =('{0}{0}{0}{0}{0}{0}{1}{1}{1}'.format(bc,hc))\n",
    "\n",
    "print(row1)\n",
    "print(row2)\n",
    "print(row3)\n",
    "print(row2)\n",
    "print(row1)\n"
   ]
  },
  {
   "cell_type": "code",
   "execution_count": 40,
   "id": "7bbffee6",
   "metadata": {},
   "outputs": [
    {
     "name": "stdout",
     "output_type": "stream",
     "text": [
      "9\n",
      "8\n",
      "      8\n",
      "99999988\n",
      "999999888\n",
      "99999988\n",
      "      8\n"
     ]
    }
   ],
   "source": [
    "#Program to print a right facing arrow with an arbitrary character\n",
    "\n",
    "bc = input() #base_char\n",
    "hc = input() #head_char\n",
    "\n",
    "row1 = '      ' + hc\n",
    "row2 =('{0}{0}{0}{0}{0}{0}{1}{1}'.format(bc,hc))\n",
    "row3 =('{0}{0}{0}{0}{0}{0}{1}{1}{1}'.format(bc,hc))\n",
    "\n",
    "print(row1)\n",
    "print(row2)\n",
    "print(row3)\n",
    "print(row2)\n",
    "print(row1)"
   ]
  },
  {
   "cell_type": "code",
   "execution_count": 42,
   "id": "e3d21ef1",
   "metadata": {},
   "outputs": [
    {
     "name": "stdout",
     "output_type": "stream",
     "text": [
      "100\n",
      "13\n",
      "24\n",
      "7\n",
      "Amount:$ 27.57\n"
     ]
    }
   ],
   "source": [
    "#Program to calculate the total amount given the number of coins \n",
    "\n",
    "num_q=int(input())\n",
    "num_d=int(input())\n",
    "num_nick=int(input())\n",
    "num_pen=int(input())\n",
    "\n",
    "total=(num_q*25)+(num_d*10)+(num_nick*5)+(num_pen*1)\n",
    "\n",
    "n_tot=(total/100)\n",
    "\n",
    "print(\"Amount:$\",n_tot)"
   ]
  },
  {
   "cell_type": "code",
   "execution_count": 43,
   "id": "487a61da",
   "metadata": {},
   "outputs": [],
   "source": [
    "#Program to draw a figure\n",
    "\n",
    "import turtle as turt\n",
    "\n",
    "#turt.foward(n)          #Moves turtle n pixels\n",
    "#turt.right(angle)       #rotates turtle angle degrees CW\n",
    "#turt.left(angle)        #rotates turtle angle degrees CCW\n",
    "#turt.setheading(angle)  #Moves the turtles head angle degrees CW\n",
    "\n",
    "#turt.penup()            #turtle tracer is visible\n",
    "#turt.pendown()          #tracer invisible\n",
    "#turt.circle(r)          #Draws circle with radius = r\n",
    "\n",
    "#turt.goto(x,y)\n",
    "\n",
    "def point_on_circle():\n",
    "    turt\n",
    "\n",
    "turt.circle(200)\n",
    "turt.penup()\n",
    "turt.goto(0,90)\n",
    "turt.pendown()\n",
    "turt.circle(60)\n",
    "turt.setheading(9)\n",
    "turt.forward(200)\n"
   ]
  },
  {
   "cell_type": "code",
   "execution_count": 1,
   "id": "c2f11881",
   "metadata": {},
   "outputs": [],
   "source": [
    "#Draw a star\n",
    "from turtle import *\n",
    "color('black', 'white')\n",
    "begin_fill()\n",
    "while True:\n",
    "    forward(200)\n",
    "    left(170)\n",
    "    if abs(pos()) < 1:\n",
    "        break\n",
    "end_fill()\n",
    "done()"
   ]
  },
  {
   "cell_type": "code",
   "execution_count": 2,
   "id": "50a33f24",
   "metadata": {},
   "outputs": [
    {
     "name": "stdout",
     "output_type": "stream",
     "text": [
      "1 3 are twin primes.\n",
      "2 4 are twin primes.\n",
      "3 5 are twin primes.\n",
      "5 7 are twin primes.\n",
      "11 13 are twin primes.\n",
      "17 19 are twin primes.\n",
      "29 31 are twin primes.\n",
      "The number of twin primes is: 7\n"
     ]
    }
   ],
   "source": [
    "#Twin primes program\n",
    "\n",
    "def is_prime(k):\n",
    "    j=round(k/2)\n",
    "    val=True\n",
    "    for i in range(2, j):\n",
    "        if k % i == 0:\n",
    "            return False\n",
    "    return True\n",
    "\n",
    "p_nums=[]\n",
    "for i in range(1,30):\n",
    "    if is_prime(i)==True:\n",
    "        p_nums+=[i]\n",
    "\n",
    "tp_count=0\n",
    "for num in p_nums:\n",
    "    pot_twin = num + 2\n",
    "    if (is_prime(pot_twin)):\n",
    "        tp_count+=1\n",
    "        print(num, pot_twin,\"are twin primes.\")\n",
    "\n",
    "print('The number of twin primes is:', tp_count)\n",
    "\n",
    "\n",
    "\n",
    "#Sort through the list so that only the\n",
    "#numbers that sequentially differ by two\n",
    "#are stored\n",
    "\n",
    "#Now, create a process to go through p_nums\n",
    "#and sequentially check for primes numbers that\n",
    "#that have a difference of two\n",
    "#find a list of EVERY OTHER  prime number\n",
    "\n",
    "#create an index to find every other prime\n",
    "#If the difference between the first prime number\n",
    "#and second prime number is two make the twin primes\n",
    "#into a tuple and print it as a tuple\n"
   ]
  },
  {
   "cell_type": "code",
   "execution_count": null,
   "id": "d7255770",
   "metadata": {},
   "outputs": [],
   "source": []
  }
 ],
 "metadata": {
  "kernelspec": {
   "display_name": "Python 3 (ipykernel)",
   "language": "python",
   "name": "python3"
  },
  "language_info": {
   "codemirror_mode": {
    "name": "ipython",
    "version": 3
   },
   "file_extension": ".py",
   "mimetype": "text/x-python",
   "name": "python",
   "nbconvert_exporter": "python",
   "pygments_lexer": "ipython3",
   "version": "3.10.10"
  }
 },
 "nbformat": 4,
 "nbformat_minor": 5
}
