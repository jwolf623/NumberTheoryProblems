{
 "cells": [
  {
   "cell_type": "code",
   "execution_count": 35,
   "id": "cfbd681c",
   "metadata": {},
   "outputs": [
    {
     "name": "stdout",
     "output_type": "stream",
     "text": [
      "4613732\n"
     ]
    }
   ],
   "source": [
    "                #Generate fibbonacci sequence for numbers whos sum is less than 4,000,000\n",
    "L = []                              # list of fibonacci numbers\n",
    "M=[]                                # list of even fibonacci numbers\n",
    "a = 0\n",
    "b = 1\n",
    "if a > 0:\n",
    "    L.append(a)\n",
    "    L.append(b)\n",
    "for x in range(1,40):\n",
    "    c = a + b\n",
    "    if c > 0 and c < 4000000:\n",
    "            L.append(c)\n",
    "            a = b\n",
    "            b = c\n",
    "\n",
    "\n",
    "\n",
    "for i in L:\n",
    "    if i % 2 == 0:\n",
    "        M.append(i)\n",
    "    \n",
    "\n",
    "print(sum(M))\n",
    "\n",
    "#Strategy: 1) obtain the list of fibonacci numbers and print them to the screen\n",
    "#          2) Adjust code so that only numbers greater than zero are added to the list of Fibonacci numbers \n",
    "#          3) change code so that variables are added in to a list \n",
    "#          4) add a section of code that loops through the list and checks for even divisiblity by 2 (even numbers)\n",
    "#          5) find the sum of the list of even fibonacci numbers"
   ]
  },
  {
   "cell_type": "code",
   "execution_count": null,
   "id": "e9194ae0",
   "metadata": {},
   "outputs": [],
   "source": []
  }
 ],
 "metadata": {
  "kernelspec": {
   "display_name": "Python 3 (ipykernel)",
   "language": "python",
   "name": "python3"
  },
  "language_info": {
   "codemirror_mode": {
    "name": "ipython",
    "version": 3
   },
   "file_extension": ".py",
   "mimetype": "text/x-python",
   "name": "python",
   "nbconvert_exporter": "python",
   "pygments_lexer": "ipython3",
   "version": "3.10.10"
  }
 },
 "nbformat": 4,
 "nbformat_minor": 5
}
