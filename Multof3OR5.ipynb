{
 "cells": [
  {
   "cell_type": "code",
   "execution_count": 1,
   "id": "887ed707",
   "metadata": {},
   "outputs": [
    {
     "name": "stdout",
     "output_type": "stream",
     "text": [
      "233168\n"
     ]
    }
   ],
   "source": [
    "#Find the sum of all multiples of 3 or 5 below 1000\n",
    "\n",
    "total = 0\n",
    "for i in range (0, 1000): \n",
    "    if i % 3 == 0 or i % 5 == 0:\n",
    "        total += i\n",
    "\n",
    "print(total) \n",
    "\n",
    "#Strategy:\n",
    "#  1) Create a loop that iterates in the range 0 to 1000\n",
    "#  2) check if the variable of iteration is evenly divisible by 3 or 5\n",
    "#  3) If it is add it in to the variable named total\n",
    "#  4) Print to the screen the value of the variable 'total'"
   ]
  },
  {
   "cell_type": "code",
   "execution_count": null,
   "id": "e66353f7",
   "metadata": {},
   "outputs": [],
   "source": []
  }
 ],
 "metadata": {
  "kernelspec": {
   "display_name": "Python 3 (ipykernel)",
   "language": "python",
   "name": "python3"
  },
  "language_info": {
   "codemirror_mode": {
    "name": "ipython",
    "version": 3
   },
   "file_extension": ".py",
   "mimetype": "text/x-python",
   "name": "python",
   "nbconvert_exporter": "python",
   "pygments_lexer": "ipython3",
   "version": "3.10.10"
  }
 },
 "nbformat": 4,
 "nbformat_minor": 5
}
